{
 "cells": [
  {
   "cell_type": "code",
   "execution_count": 1,
   "id": "b269c2c1",
   "metadata": {},
   "outputs": [
    {
     "name": "stdout",
     "output_type": "stream",
     "text": [
      "(1375, 9)\n",
      "<class 'pandas.core.frame.DataFrame'>\n",
      "RangeIndex: 1375 entries, 0 to 1374\n",
      "Data columns (total 9 columns):\n",
      " #   Column         Non-Null Count  Dtype \n",
      "---  ------         --------------  ----- \n",
      " 0   id             1375 non-null   int64 \n",
      " 1   location       1375 non-null   object\n",
      " 2   price          1375 non-null   object\n",
      " 3   area           1375 non-null   object\n",
      " 4   date_posted    1375 non-null   object\n",
      " 5   fridge         1375 non-null   object\n",
      " 6   washer         1375 non-null   object\n",
      " 7   air_condition  1375 non-null   object\n",
      " 8   wifi           1375 non-null   object\n",
      "dtypes: int64(1), object(8)\n",
      "memory usage: 96.8+ KB\n",
      "None\n",
      "   id           location      price  area date_posted fridge washer  \\\n",
      "0   1    Cẩm Lệ, Đà Nẵng  6900000.0  50.0  2025-09-16      1      1   \n",
      "1   2  Hải Châu, Đà Nẵng  5000000.0  35.0  2025-08-16      1      1   \n",
      "2   3  Hải Châu, Đà Nẵng  2500000.0  23.0  2025-07-16      0      0   \n",
      "3   4  Hải Châu, Đà Nẵng  1000000.0  20.0  2025-07-16      0      0   \n",
      "4   5   Sơn Trà, Đà Nẵng  3000000.0   5.0  2025-07-16      1      1   \n",
      "\n",
      "  air_condition wifi  \n",
      "0             1    1  \n",
      "1             1    1  \n",
      "2             0    1  \n",
      "3             0    0  \n",
      "4             1    1  \n"
     ]
    },
    {
     "name": "stderr",
     "output_type": "stream",
     "text": [
      "C:\\Users\\PC THINH\\AppData\\Local\\Temp\\ipykernel_3672\\3452346385.py:17: UserWarning: pandas only supports SQLAlchemy connectable (engine/connection) or database string URI or sqlite3 DBAPI2 connection. Other DBAPI2 objects are not tested. Please consider using SQLAlchemy.\n",
      "  df = pd.read_sql(query, conn)\n"
     ]
    }
   ],
   "source": [
    "import pandas as pd\n",
    "import numpy as np\n",
    "import matplotlib.pyplot as plt\n",
    "import seaborn as sns\n",
    "import mysql.connector\n",
    "\n",
    "# Kết nối MySQL\n",
    "conn = mysql.connector.connect(\n",
    "    host=\"localhost\",\n",
    "    user=\"root\",\n",
    "    password=\"Minhthinh@2k5\",\n",
    "    database=\"DB_STORAGE2\"\n",
    ")\n",
    "\n",
    "# Lấy toàn bộ dữ liệu từ bảng\n",
    "query = \"SELECT * FROM houses\"\n",
    "df = pd.read_sql(query, conn)\n",
    "\n",
    "# Đóng kết nối\n",
    "conn.close()\n",
    "\n",
    "# Kiểm tra dữ liệu\n",
    "print(df.shape)     # Số dòng, số cột\n",
    "print(df.info())    # Kiểu dữ liệu\n",
    "print(df.head())    # 5 dòng đầu tiên\n"
   ]
  },
  {
   "cell_type": "code",
   "execution_count": 3,
   "id": "c910902e",
   "metadata": {},
   "outputs": [
    {
     "data": {
      "application/vnd.microsoft.datawrangler.viewer.v0+json": {
       "columns": [
        {
         "name": "index",
         "rawType": "object",
         "type": "string"
        },
        {
         "name": "id",
         "rawType": "float64",
         "type": "float"
        },
        {
         "name": "location",
         "rawType": "object",
         "type": "unknown"
        },
        {
         "name": "price",
         "rawType": "object",
         "type": "unknown"
        },
        {
         "name": "area",
         "rawType": "object",
         "type": "unknown"
        },
        {
         "name": "date_posted",
         "rawType": "object",
         "type": "unknown"
        },
        {
         "name": "fridge",
         "rawType": "object",
         "type": "unknown"
        },
        {
         "name": "washer",
         "rawType": "object",
         "type": "unknown"
        },
        {
         "name": "air_condition",
         "rawType": "object",
         "type": "unknown"
        },
        {
         "name": "wifi",
         "rawType": "object",
         "type": "unknown"
        }
       ],
       "ref": "1a9d04dd-12e7-47dd-8e80-9b412c41bdff",
       "rows": [
        [
         "count",
         "1375.0",
         "1375",
         "1375",
         "1375",
         "1375",
         "1375",
         "1375",
         "1375",
         "1375"
        ],
        [
         "unique",
         null,
         "7",
         "39",
         "34",
         "37",
         "2",
         "2",
         "2",
         "2"
        ],
        [
         "top",
         null,
         "Hải Châu, Đà Nẵng",
         "1500000.0",
         "20.0",
         "2021-10-21",
         "0",
         "0",
         "0",
         "0"
        ],
        [
         "freq",
         null,
         "334",
         "200",
         "356",
         "486",
         "973",
         "940",
         "961",
         "813"
        ],
        [
         "mean",
         "697.170909090909",
         null,
         null,
         null,
         null,
         null,
         null,
         null,
         null
        ],
        [
         "std",
         "398.3618519536826",
         null,
         null,
         null,
         null,
         null,
         null,
         null,
         null
        ],
        [
         "min",
         "1.0",
         null,
         null,
         null,
         null,
         null,
         null,
         null,
         null
        ],
        [
         "25%",
         "354.5",
         null,
         null,
         null,
         null,
         null,
         null,
         null,
         null
        ],
        [
         "50%",
         "698.0",
         null,
         null,
         null,
         null,
         null,
         null,
         null,
         null
        ],
        [
         "75%",
         "1041.5",
         null,
         null,
         null,
         null,
         null,
         null,
         null,
         null
        ],
        [
         "max",
         "1385.0",
         null,
         null,
         null,
         null,
         null,
         null,
         null,
         null
        ]
       ],
       "shape": {
        "columns": 9,
        "rows": 11
       }
      },
      "text/html": [
       "<div>\n",
       "<style scoped>\n",
       "    .dataframe tbody tr th:only-of-type {\n",
       "        vertical-align: middle;\n",
       "    }\n",
       "\n",
       "    .dataframe tbody tr th {\n",
       "        vertical-align: top;\n",
       "    }\n",
       "\n",
       "    .dataframe thead th {\n",
       "        text-align: right;\n",
       "    }\n",
       "</style>\n",
       "<table border=\"1\" class=\"dataframe\">\n",
       "  <thead>\n",
       "    <tr style=\"text-align: right;\">\n",
       "      <th></th>\n",
       "      <th>id</th>\n",
       "      <th>location</th>\n",
       "      <th>price</th>\n",
       "      <th>area</th>\n",
       "      <th>date_posted</th>\n",
       "      <th>fridge</th>\n",
       "      <th>washer</th>\n",
       "      <th>air_condition</th>\n",
       "      <th>wifi</th>\n",
       "    </tr>\n",
       "  </thead>\n",
       "  <tbody>\n",
       "    <tr>\n",
       "      <th>count</th>\n",
       "      <td>1375.000000</td>\n",
       "      <td>1375</td>\n",
       "      <td>1375</td>\n",
       "      <td>1375</td>\n",
       "      <td>1375</td>\n",
       "      <td>1375</td>\n",
       "      <td>1375</td>\n",
       "      <td>1375</td>\n",
       "      <td>1375</td>\n",
       "    </tr>\n",
       "    <tr>\n",
       "      <th>unique</th>\n",
       "      <td>NaN</td>\n",
       "      <td>7</td>\n",
       "      <td>39</td>\n",
       "      <td>34</td>\n",
       "      <td>37</td>\n",
       "      <td>2</td>\n",
       "      <td>2</td>\n",
       "      <td>2</td>\n",
       "      <td>2</td>\n",
       "    </tr>\n",
       "    <tr>\n",
       "      <th>top</th>\n",
       "      <td>NaN</td>\n",
       "      <td>Hải Châu, Đà Nẵng</td>\n",
       "      <td>1500000.0</td>\n",
       "      <td>20.0</td>\n",
       "      <td>2021-10-21</td>\n",
       "      <td>0</td>\n",
       "      <td>0</td>\n",
       "      <td>0</td>\n",
       "      <td>0</td>\n",
       "    </tr>\n",
       "    <tr>\n",
       "      <th>freq</th>\n",
       "      <td>NaN</td>\n",
       "      <td>334</td>\n",
       "      <td>200</td>\n",
       "      <td>356</td>\n",
       "      <td>486</td>\n",
       "      <td>973</td>\n",
       "      <td>940</td>\n",
       "      <td>961</td>\n",
       "      <td>813</td>\n",
       "    </tr>\n",
       "    <tr>\n",
       "      <th>mean</th>\n",
       "      <td>697.170909</td>\n",
       "      <td>NaN</td>\n",
       "      <td>NaN</td>\n",
       "      <td>NaN</td>\n",
       "      <td>NaN</td>\n",
       "      <td>NaN</td>\n",
       "      <td>NaN</td>\n",
       "      <td>NaN</td>\n",
       "      <td>NaN</td>\n",
       "    </tr>\n",
       "    <tr>\n",
       "      <th>std</th>\n",
       "      <td>398.361852</td>\n",
       "      <td>NaN</td>\n",
       "      <td>NaN</td>\n",
       "      <td>NaN</td>\n",
       "      <td>NaN</td>\n",
       "      <td>NaN</td>\n",
       "      <td>NaN</td>\n",
       "      <td>NaN</td>\n",
       "      <td>NaN</td>\n",
       "    </tr>\n",
       "    <tr>\n",
       "      <th>min</th>\n",
       "      <td>1.000000</td>\n",
       "      <td>NaN</td>\n",
       "      <td>NaN</td>\n",
       "      <td>NaN</td>\n",
       "      <td>NaN</td>\n",
       "      <td>NaN</td>\n",
       "      <td>NaN</td>\n",
       "      <td>NaN</td>\n",
       "      <td>NaN</td>\n",
       "    </tr>\n",
       "    <tr>\n",
       "      <th>25%</th>\n",
       "      <td>354.500000</td>\n",
       "      <td>NaN</td>\n",
       "      <td>NaN</td>\n",
       "      <td>NaN</td>\n",
       "      <td>NaN</td>\n",
       "      <td>NaN</td>\n",
       "      <td>NaN</td>\n",
       "      <td>NaN</td>\n",
       "      <td>NaN</td>\n",
       "    </tr>\n",
       "    <tr>\n",
       "      <th>50%</th>\n",
       "      <td>698.000000</td>\n",
       "      <td>NaN</td>\n",
       "      <td>NaN</td>\n",
       "      <td>NaN</td>\n",
       "      <td>NaN</td>\n",
       "      <td>NaN</td>\n",
       "      <td>NaN</td>\n",
       "      <td>NaN</td>\n",
       "      <td>NaN</td>\n",
       "    </tr>\n",
       "    <tr>\n",
       "      <th>75%</th>\n",
       "      <td>1041.500000</td>\n",
       "      <td>NaN</td>\n",
       "      <td>NaN</td>\n",
       "      <td>NaN</td>\n",
       "      <td>NaN</td>\n",
       "      <td>NaN</td>\n",
       "      <td>NaN</td>\n",
       "      <td>NaN</td>\n",
       "      <td>NaN</td>\n",
       "    </tr>\n",
       "    <tr>\n",
       "      <th>max</th>\n",
       "      <td>1385.000000</td>\n",
       "      <td>NaN</td>\n",
       "      <td>NaN</td>\n",
       "      <td>NaN</td>\n",
       "      <td>NaN</td>\n",
       "      <td>NaN</td>\n",
       "      <td>NaN</td>\n",
       "      <td>NaN</td>\n",
       "      <td>NaN</td>\n",
       "    </tr>\n",
       "  </tbody>\n",
       "</table>\n",
       "</div>"
      ],
      "text/plain": [
       "                 id           location      price  area date_posted fridge  \\\n",
       "count   1375.000000               1375       1375  1375        1375   1375   \n",
       "unique          NaN                  7         39    34          37      2   \n",
       "top             NaN  Hải Châu, Đà Nẵng  1500000.0  20.0  2021-10-21      0   \n",
       "freq            NaN                334        200   356         486    973   \n",
       "mean     697.170909                NaN        NaN   NaN         NaN    NaN   \n",
       "std      398.361852                NaN        NaN   NaN         NaN    NaN   \n",
       "min        1.000000                NaN        NaN   NaN         NaN    NaN   \n",
       "25%      354.500000                NaN        NaN   NaN         NaN    NaN   \n",
       "50%      698.000000                NaN        NaN   NaN         NaN    NaN   \n",
       "75%     1041.500000                NaN        NaN   NaN         NaN    NaN   \n",
       "max     1385.000000                NaN        NaN   NaN         NaN    NaN   \n",
       "\n",
       "       washer air_condition  wifi  \n",
       "count    1375          1375  1375  \n",
       "unique      2             2     2  \n",
       "top         0             0     0  \n",
       "freq      940           961   813  \n",
       "mean      NaN           NaN   NaN  \n",
       "std       NaN           NaN   NaN  \n",
       "min       NaN           NaN   NaN  \n",
       "25%       NaN           NaN   NaN  \n",
       "50%       NaN           NaN   NaN  \n",
       "75%       NaN           NaN   NaN  \n",
       "max       NaN           NaN   NaN  "
      ]
     },
     "execution_count": 3,
     "metadata": {},
     "output_type": "execute_result"
    }
   ],
   "source": [
    "#Mô tả thống kê cơ bản→ Giúp bạn biết giá trị trung bình, min, max, độ lệch chuẩn, giá trị thiếu (NaN)...\n",
    "df.describe(include=\"all\")"
   ]
  },
  {
   "cell_type": "code",
   "execution_count": 4,
   "id": "da641019",
   "metadata": {},
   "outputs": [
    {
     "data": {
      "application/vnd.microsoft.datawrangler.viewer.v0+json": {
       "columns": [
        {
         "name": "index",
         "rawType": "object",
         "type": "string"
        },
        {
         "name": "0",
         "rawType": "int64",
         "type": "integer"
        }
       ],
       "ref": "95ba79b6-82bd-4a24-9c6f-c3a3dbf23b21",
       "rows": [
        [
         "id",
         "0"
        ],
        [
         "location",
         "0"
        ],
        [
         "price",
         "0"
        ],
        [
         "area",
         "0"
        ],
        [
         "date_posted",
         "0"
        ],
        [
         "fridge",
         "0"
        ],
        [
         "washer",
         "0"
        ],
        [
         "air_condition",
         "0"
        ],
        [
         "wifi",
         "0"
        ]
       ],
       "shape": {
        "columns": 1,
        "rows": 9
       }
      },
      "text/plain": [
       "id               0\n",
       "location         0\n",
       "price            0\n",
       "area             0\n",
       "date_posted      0\n",
       "fridge           0\n",
       "washer           0\n",
       "air_condition    0\n",
       "wifi             0\n",
       "dtype: int64"
      ]
     },
     "execution_count": 4,
     "metadata": {},
     "output_type": "execute_result"
    }
   ],
   "source": [
    "df.isnull().sum().sort_values(ascending=False)"
   ]
  },
  {
   "cell_type": "code",
   "execution_count": 10,
   "id": "3082f33b",
   "metadata": {},
   "outputs": [
    {
     "name": "stdout",
     "output_type": "stream",
     "text": [
      "id                 int64\n",
      "location          object\n",
      "price            float64\n",
      "area             float64\n",
      "date_posted       object\n",
      "fridge            object\n",
      "washer            object\n",
      "air_condition     object\n",
      "wifi              object\n",
      "dtype: object\n"
     ]
    }
   ],
   "source": [
    "#Ép kiểu dữ liệu đúng chuẩn -> \n",
    "print(df.dtypes)\n",
    "df[\"price\"] = pd.to_numeric(df[\"price\"], errors=\"coerce\")\n",
    "df[\"area\"] = pd.to_numeric(df[\"area\"], errors=\"coerce\")\n",
    "\n",
    "df[\"date_posted\"] = pd.to_datetime(df[\"date_posted\"], errors=\"coerce\")\n",
    "\n",
    "\n"
   ]
  },
  {
   "cell_type": "code",
   "execution_count": 11,
   "id": "e83b524c",
   "metadata": {},
   "outputs": [
    {
     "name": "stdout",
     "output_type": "stream",
     "text": [
      "                 id           location         price         area  \\\n",
      "count   1375.000000               1375  1.375000e+03  1375.000000   \n",
      "unique          NaN                  7           NaN          NaN   \n",
      "top             NaN  Hải Châu, Đà Nẵng           NaN          NaN   \n",
      "freq            NaN                334           NaN          NaN   \n",
      "mean     697.170909                NaN  7.069607e+07    28.966545   \n",
      "min        1.000000                NaN  1.000000e+06     5.000000   \n",
      "25%      354.500000                NaN  1.500000e+06    20.000000   \n",
      "50%      698.000000                NaN  2.000000e+06    20.000000   \n",
      "75%     1041.500000                NaN  2.600000e+06    27.000000   \n",
      "max     1385.000000                NaN  1.000000e+10   390.000000   \n",
      "std      398.361852                NaN  6.782813e+08    33.982833   \n",
      "\n",
      "                          date_posted fridge washer air_condition  wifi  \n",
      "count                            1375   1375   1375          1375  1375  \n",
      "unique                            NaN      2      2             2     2  \n",
      "top                               NaN      0      0             0     0  \n",
      "freq                              NaN    973    940           961   813  \n",
      "mean    2022-05-21 16:38:03.054545408    NaN    NaN           NaN   NaN  \n",
      "min               2021-10-16 00:00:00    NaN    NaN           NaN   NaN  \n",
      "25%               2021-10-21 00:00:00    NaN    NaN           NaN   NaN  \n",
      "50%               2021-10-21 00:00:00    NaN    NaN           NaN   NaN  \n",
      "75%               2022-10-21 00:00:00    NaN    NaN           NaN   NaN  \n",
      "max               2025-10-20 00:00:00    NaN    NaN           NaN   NaN  \n",
      "std                               NaN    NaN    NaN           NaN   NaN  \n",
      "<class 'pandas.core.frame.DataFrame'>\n",
      "RangeIndex: 1375 entries, 0 to 1374\n",
      "Data columns (total 9 columns):\n",
      " #   Column         Non-Null Count  Dtype         \n",
      "---  ------         --------------  -----         \n",
      " 0   id             1375 non-null   int64         \n",
      " 1   location       1375 non-null   object        \n",
      " 2   price          1375 non-null   float64       \n",
      " 3   area           1375 non-null   float64       \n",
      " 4   date_posted    1375 non-null   datetime64[ns]\n",
      " 5   fridge         1375 non-null   object        \n",
      " 6   washer         1375 non-null   object        \n",
      " 7   air_condition  1375 non-null   object        \n",
      " 8   wifi           1375 non-null   object        \n",
      "dtypes: datetime64[ns](1), float64(2), int64(1), object(5)\n",
      "memory usage: 96.8+ KB\n",
      "None\n"
     ]
    }
   ],
   "source": [
    "print(df.describe(include=\"all\"))\n",
    "print(df.info())\n"
   ]
  },
  {
   "cell_type": "code",
   "execution_count": 12,
   "id": "53c27a19",
   "metadata": {},
   "outputs": [
    {
     "data": {
      "application/vnd.microsoft.datawrangler.viewer.v0+json": {
       "columns": [
        {
         "name": "index",
         "rawType": "int64",
         "type": "integer"
        },
        {
         "name": "id",
         "rawType": "int64",
         "type": "integer"
        },
        {
         "name": "location",
         "rawType": "object",
         "type": "string"
        },
        {
         "name": "price",
         "rawType": "float64",
         "type": "float"
        },
        {
         "name": "area",
         "rawType": "float64",
         "type": "float"
        },
        {
         "name": "date_posted",
         "rawType": "datetime64[ns]",
         "type": "datetime"
        },
        {
         "name": "fridge",
         "rawType": "object",
         "type": "string"
        },
        {
         "name": "washer",
         "rawType": "object",
         "type": "string"
        },
        {
         "name": "air_condition",
         "rawType": "object",
         "type": "string"
        },
        {
         "name": "wifi",
         "rawType": "object",
         "type": "string"
        }
       ],
       "ref": "e3fc031b-7679-4e26-87a7-fbb7f3bb43e4",
       "rows": [],
       "shape": {
        "columns": 9,
        "rows": 0
       }
      },
      "text/html": [
       "<div>\n",
       "<style scoped>\n",
       "    .dataframe tbody tr th:only-of-type {\n",
       "        vertical-align: middle;\n",
       "    }\n",
       "\n",
       "    .dataframe tbody tr th {\n",
       "        vertical-align: top;\n",
       "    }\n",
       "\n",
       "    .dataframe thead th {\n",
       "        text-align: right;\n",
       "    }\n",
       "</style>\n",
       "<table border=\"1\" class=\"dataframe\">\n",
       "  <thead>\n",
       "    <tr style=\"text-align: right;\">\n",
       "      <th></th>\n",
       "      <th>id</th>\n",
       "      <th>location</th>\n",
       "      <th>price</th>\n",
       "      <th>area</th>\n",
       "      <th>date_posted</th>\n",
       "      <th>fridge</th>\n",
       "      <th>washer</th>\n",
       "      <th>air_condition</th>\n",
       "      <th>wifi</th>\n",
       "    </tr>\n",
       "  </thead>\n",
       "  <tbody>\n",
       "  </tbody>\n",
       "</table>\n",
       "</div>"
      ],
      "text/plain": [
       "Empty DataFrame\n",
       "Columns: [id, location, price, area, date_posted, fridge, washer, air_condition, wifi]\n",
       "Index: []"
      ]
     },
     "execution_count": 12,
     "metadata": {},
     "output_type": "execute_result"
    }
   ],
   "source": [
    "df[df[\"price\"] <= 0]"
   ]
  },
  {
   "cell_type": "code",
   "execution_count": 16,
   "id": "f494b3e7",
   "metadata": {},
   "outputs": [],
   "source": [
    "df = df[(df['price'] >= 1000000) & (df['price'] <= 10000000)]\n",
    "df = df[(df['area'] >= 10) & (df['area'] <= 50)]\n",
    "\n",
    "df['district'] = df['location'].apply(lambda x: x.split(',')[0].strip())\n"
   ]
  },
  {
   "cell_type": "code",
   "execution_count": 18,
   "id": "91c30f29",
   "metadata": {},
   "outputs": [
    {
     "name": "stdout",
     "output_type": "stream",
     "text": [
      " Shape sau khi lọc: (1261, 10)\n",
      "\n",
      " Giá trị thống kê Price:\n",
      "count    1.261000e+03\n",
      "mean     2.082157e+06\n",
      "std      8.428356e+05\n",
      "min      1.000000e+06\n",
      "25%      1.500000e+06\n",
      "50%      1.900000e+06\n",
      "75%      2.500000e+06\n",
      "max      6.900000e+06\n",
      "Name: price, dtype: float64\n",
      "\n",
      " Thống kê Area:\n",
      "count    1261.000000\n",
      "mean       23.358446\n",
      "std         6.872188\n",
      "min        10.000000\n",
      "25%        20.000000\n",
      "50%        20.000000\n",
      "75%        25.000000\n",
      "max        50.000000\n",
      "Name: area, dtype: float64\n",
      "\n",
      " Giá trị unique District:\n",
      "district\n",
      "Hải Châu        325\n",
      "Ngũ Hành Sơn    241\n",
      "Liên Chiểu      198\n",
      "Thanh Khê       191\n",
      "Cẩm Lệ          174\n",
      "Sơn Trà         120\n",
      "Hòa Vang         12\n",
      "Name: count, dtype: int64\n"
     ]
    }
   ],
   "source": [
    "print(\" Shape sau khi lọc:\", df.shape)\n",
    "print(\"\\n Giá trị thống kê Price:\")\n",
    "print(df['price'].describe())\n",
    "print(\"\\n Thống kê Area:\")\n",
    "print(df['area'].describe())\n",
    "print(\"\\n Giá trị unique District:\")\n",
    "print(df['district'].value_counts())\n",
    "\n"
   ]
  },
  {
   "cell_type": "code",
   "execution_count": 19,
   "id": "1b383980",
   "metadata": {},
   "outputs": [
    {
     "data": {
      "application/vnd.microsoft.datawrangler.viewer.v0+json": {
       "columns": [
        {
         "name": "index",
         "rawType": "int64",
         "type": "integer"
        },
        {
         "name": "id",
         "rawType": "int64",
         "type": "integer"
        },
        {
         "name": "location",
         "rawType": "object",
         "type": "string"
        },
        {
         "name": "price",
         "rawType": "float64",
         "type": "float"
        },
        {
         "name": "area",
         "rawType": "float64",
         "type": "float"
        },
        {
         "name": "date_posted",
         "rawType": "datetime64[ns]",
         "type": "datetime"
        },
        {
         "name": "fridge",
         "rawType": "object",
         "type": "string"
        },
        {
         "name": "washer",
         "rawType": "object",
         "type": "string"
        },
        {
         "name": "air_condition",
         "rawType": "object",
         "type": "string"
        },
        {
         "name": "wifi",
         "rawType": "object",
         "type": "string"
        },
        {
         "name": "district",
         "rawType": "object",
         "type": "string"
        }
       ],
       "ref": "1ee642da-7eff-4fb0-a3a6-636da2401a79",
       "rows": [
        [
         "0",
         "1",
         "Cẩm Lệ, Đà Nẵng",
         "6900000.0",
         "50.0",
         "2025-09-16 00:00:00",
         "1",
         "1",
         "1",
         "1",
         "Cẩm Lệ"
        ],
        [
         "1",
         "2",
         "Hải Châu, Đà Nẵng",
         "5000000.0",
         "35.0",
         "2025-08-16 00:00:00",
         "1",
         "1",
         "1",
         "1",
         "Hải Châu"
        ],
        [
         "2",
         "3",
         "Hải Châu, Đà Nẵng",
         "2500000.0",
         "23.0",
         "2025-07-16 00:00:00",
         "0",
         "0",
         "0",
         "1",
         "Hải Châu"
        ],
        [
         "3",
         "4",
         "Hải Châu, Đà Nẵng",
         "1000000.0",
         "20.0",
         "2025-07-16 00:00:00",
         "0",
         "0",
         "0",
         "0",
         "Hải Châu"
        ],
        [
         "5",
         "6",
         "Hải Châu, Đà Nẵng",
         "1900000.0",
         "20.0",
         "2025-06-16 00:00:00",
         "0",
         "0",
         "0",
         "0",
         "Hải Châu"
        ],
        [
         "6",
         "7",
         "Ngũ Hành Sơn, Đà Nẵng",
         "1500000.0",
         "16.0",
         "2025-06-16 00:00:00",
         "0",
         "0",
         "0",
         "0",
         "Ngũ Hành Sơn"
        ],
        [
         "7",
         "8",
         "Cẩm Lệ, Đà Nẵng",
         "2500000.0",
         "18.0",
         "2025-05-16 00:00:00",
         "1",
         "1",
         "1",
         "1",
         "Cẩm Lệ"
        ],
        [
         "8",
         "9",
         "Hải Châu, Đà Nẵng",
         "1900000.0",
         "20.0",
         "2025-03-16 00:00:00",
         "0",
         "0",
         "0",
         "0",
         "Hải Châu"
        ],
        [
         "9",
         "10",
         "Hải Châu, Đà Nẵng",
         "1900000.0",
         "20.0",
         "2025-03-16 00:00:00",
         "0",
         "0",
         "0",
         "0",
         "Hải Châu"
        ],
        [
         "10",
         "11",
         "Ngũ Hành Sơn, Đà Nẵng",
         "2500000.0",
         "20.0",
         "2025-03-16 00:00:00",
         "0",
         "0",
         "0",
         "0",
         "Ngũ Hành Sơn"
        ],
        [
         "11",
         "12",
         "Ngũ Hành Sơn, Đà Nẵng",
         "4700000.0",
         "32.0",
         "2024-12-16 00:00:00",
         "1",
         "1",
         "1",
         "1",
         "Ngũ Hành Sơn"
        ],
        [
         "12",
         "13",
         "Sơn Trà, Đà Nẵng",
         "3000000.0",
         "30.0",
         "2024-10-16 00:00:00",
         "0",
         "1",
         "1",
         "0",
         "Sơn Trà"
        ],
        [
         "13",
         "14",
         "Liên Chiểu, Đà Nẵng",
         "2500000.0",
         "40.0",
         "2024-10-16 00:00:00",
         "0",
         "0",
         "0",
         "0",
         "Liên Chiểu"
        ],
        [
         "14",
         "15",
         "Thanh Khê, Đà Nẵng",
         "1000000.0",
         "12.0",
         "2024-10-16 00:00:00",
         "0",
         "0",
         "0",
         "0",
         "Thanh Khê"
        ],
        [
         "15",
         "16",
         "Hải Châu, Đà Nẵng",
         "2300000.0",
         "20.0",
         "2024-10-16 00:00:00",
         "0",
         "0",
         "0",
         "0",
         "Hải Châu"
        ],
        [
         "16",
         "17",
         "Hải Châu, Đà Nẵng",
         "1500000.0",
         "12.0",
         "2024-10-16 00:00:00",
         "0",
         "0",
         "0",
         "0",
         "Hải Châu"
        ],
        [
         "17",
         "18",
         "Thanh Khê, Đà Nẵng",
         "1500000.0",
         "12.0",
         "2024-10-16 00:00:00",
         "0",
         "0",
         "0",
         "0",
         "Thanh Khê"
        ],
        [
         "18",
         "19",
         "Thanh Khê, Đà Nẵng",
         "2200000.0",
         "20.0",
         "2024-10-16 00:00:00",
         "0",
         "0",
         "0",
         "0",
         "Thanh Khê"
        ],
        [
         "20",
         "21",
         "Ngũ Hành Sơn, Đà Nẵng",
         "3000000.0",
         "32.0",
         "2024-10-16 00:00:00",
         "0",
         "0",
         "0",
         "0",
         "Ngũ Hành Sơn"
        ],
        [
         "21",
         "22",
         "Thanh Khê, Đà Nẵng",
         "2000000.0",
         "25.0",
         "2024-10-16 00:00:00",
         "0",
         "0",
         "1",
         "1",
         "Thanh Khê"
        ],
        [
         "22",
         "23",
         "Hải Châu, Đà Nẵng",
         "2500000.0",
         "35.0",
         "2024-10-16 00:00:00",
         "0",
         "0",
         "0",
         "1",
         "Hải Châu"
        ],
        [
         "23",
         "24",
         "Liên Chiểu, Đà Nẵng",
         "2900000.0",
         "35.0",
         "2024-10-16 00:00:00",
         "0",
         "0",
         "0",
         "0",
         "Liên Chiểu"
        ],
        [
         "24",
         "25",
         "Sơn Trà, Đà Nẵng",
         "2800000.0",
         "25.0",
         "2024-10-16 00:00:00",
         "1",
         "1",
         "1",
         "1",
         "Sơn Trà"
        ],
        [
         "25",
         "26",
         "Ngũ Hành Sơn, Đà Nẵng",
         "3000000.0",
         "25.0",
         "2023-10-16 00:00:00",
         "0",
         "0",
         "0",
         "0",
         "Ngũ Hành Sơn"
        ],
        [
         "26",
         "27",
         "Liên Chiểu, Đà Nẵng",
         "2000000.0",
         "35.0",
         "2023-10-16 00:00:00",
         "0",
         "0",
         "0",
         "0",
         "Liên Chiểu"
        ],
        [
         "27",
         "28",
         "Thanh Khê, Đà Nẵng",
         "2000000.0",
         "25.0",
         "2023-10-16 00:00:00",
         "0",
         "0",
         "1",
         "1",
         "Thanh Khê"
        ],
        [
         "28",
         "29",
         "Thanh Khê, Đà Nẵng",
         "1400000.0",
         "15.0",
         "2023-10-16 00:00:00",
         "0",
         "0",
         "0",
         "0",
         "Thanh Khê"
        ],
        [
         "29",
         "30",
         "Liên Chiểu, Đà Nẵng",
         "1000000.0",
         "16.0",
         "2023-10-16 00:00:00",
         "0",
         "0",
         "0",
         "0",
         "Liên Chiểu"
        ],
        [
         "30",
         "32",
         "Sơn Trà, Đà Nẵng",
         "3700000.0",
         "20.0",
         "2023-10-16 00:00:00",
         "1",
         "1",
         "1",
         "1",
         "Sơn Trà"
        ],
        [
         "31",
         "33",
         "Liên Chiểu, Đà Nẵng",
         "1800000.0",
         "35.0",
         "2023-10-16 00:00:00",
         "0",
         "0",
         "0",
         "0",
         "Liên Chiểu"
        ],
        [
         "32",
         "34",
         "Thanh Khê, Đà Nẵng",
         "1500000.0",
         "20.0",
         "2023-10-16 00:00:00",
         "0",
         "0",
         "0",
         "0",
         "Thanh Khê"
        ],
        [
         "33",
         "35",
         "Sơn Trà, Đà Nẵng",
         "2300000.0",
         "25.0",
         "2023-10-16 00:00:00",
         "0",
         "0",
         "1",
         "0",
         "Sơn Trà"
        ],
        [
         "35",
         "37",
         "Liên Chiểu, Đà Nẵng",
         "1800000.0",
         "35.0",
         "2023-10-16 00:00:00",
         "0",
         "0",
         "0",
         "0",
         "Liên Chiểu"
        ],
        [
         "36",
         "38",
         "Ngũ Hành Sơn, Đà Nẵng",
         "2500000.0",
         "35.0",
         "2023-10-16 00:00:00",
         "0",
         "0",
         "0",
         "0",
         "Ngũ Hành Sơn"
        ],
        [
         "37",
         "39",
         "Hải Châu, Đà Nẵng",
         "2000000.0",
         "35.0",
         "2023-10-16 00:00:00",
         "0",
         "0",
         "0",
         "0",
         "Hải Châu"
        ],
        [
         "38",
         "40",
         "Thanh Khê, Đà Nẵng",
         "1700000.0",
         "20.0",
         "2023-10-16 00:00:00",
         "0",
         "0",
         "0",
         "0",
         "Thanh Khê"
        ],
        [
         "39",
         "41",
         "Hải Châu, Đà Nẵng",
         "2200000.0",
         "18.0",
         "2023-10-16 00:00:00",
         "0",
         "0",
         "0",
         "0",
         "Hải Châu"
        ],
        [
         "40",
         "42",
         "Liên Chiểu, Đà Nẵng",
         "2500000.0",
         "40.0",
         "2023-10-16 00:00:00",
         "0",
         "0",
         "0",
         "0",
         "Liên Chiểu"
        ],
        [
         "42",
         "44",
         "Liên Chiểu, Đà Nẵng",
         "1200000.0",
         "25.0",
         "2023-10-16 00:00:00",
         "0",
         "0",
         "0",
         "0",
         "Liên Chiểu"
        ],
        [
         "43",
         "45",
         "Hải Châu, Đà Nẵng",
         "2500000.0",
         "30.0",
         "2023-10-16 00:00:00",
         "0",
         "0",
         "0",
         "0",
         "Hải Châu"
        ],
        [
         "44",
         "46",
         "Hải Châu, Đà Nẵng",
         "3000000.0",
         "30.0",
         "2023-10-16 00:00:00",
         "0",
         "0",
         "0",
         "0",
         "Hải Châu"
        ],
        [
         "45",
         "47",
         "Hải Châu, Đà Nẵng",
         "1700000.0",
         "13.0",
         "2023-10-16 00:00:00",
         "0",
         "0",
         "0",
         "0",
         "Hải Châu"
        ],
        [
         "46",
         "48",
         "Ngũ Hành Sơn, Đà Nẵng",
         "1500000.0",
         "20.0",
         "2023-10-16 00:00:00",
         "0",
         "0",
         "0",
         "0",
         "Ngũ Hành Sơn"
        ],
        [
         "47",
         "49",
         "Cẩm Lệ, Đà Nẵng",
         "3500000.0",
         "25.0",
         "2022-10-16 00:00:00",
         "1",
         "1",
         "1",
         "1",
         "Cẩm Lệ"
        ],
        [
         "48",
         "50",
         "Ngũ Hành Sơn, Đà Nẵng",
         "2000000.0",
         "12.0",
         "2022-10-16 00:00:00",
         "0",
         "0",
         "0",
         "1",
         "Ngũ Hành Sơn"
        ],
        [
         "53",
         "55",
         "Hải Châu, Đà Nẵng",
         "6000000.0",
         "41.0",
         "2022-10-16 00:00:00",
         "1",
         "1",
         "1",
         "1",
         "Hải Châu"
        ],
        [
         "63",
         "68",
         "Liên Chiểu, Đà Nẵng",
         "1700000.0",
         "30.0",
         "2022-10-16 00:00:00",
         "0",
         "0",
         "0",
         "0",
         "Liên Chiểu"
        ],
        [
         "64",
         "69",
         "Hải Châu, Đà Nẵng",
         "3500000.0",
         "30.0",
         "2022-10-16 00:00:00",
         "1",
         "1",
         "0",
         "0",
         "Hải Châu"
        ],
        [
         "65",
         "70",
         "Cẩm Lệ, Đà Nẵng",
         "2000000.0",
         "15.0",
         "2022-10-16 00:00:00",
         "0",
         "1",
         "0",
         "0",
         "Cẩm Lệ"
        ],
        [
         "66",
         "71",
         "Liên Chiểu, Đà Nẵng",
         "1800000.0",
         "25.0",
         "2022-10-16 00:00:00",
         "0",
         "1",
         "0",
         "0",
         "Liên Chiểu"
        ]
       ],
       "shape": {
        "columns": 10,
        "rows": 1261
       }
      },
      "text/html": [
       "<div>\n",
       "<style scoped>\n",
       "    .dataframe tbody tr th:only-of-type {\n",
       "        vertical-align: middle;\n",
       "    }\n",
       "\n",
       "    .dataframe tbody tr th {\n",
       "        vertical-align: top;\n",
       "    }\n",
       "\n",
       "    .dataframe thead th {\n",
       "        text-align: right;\n",
       "    }\n",
       "</style>\n",
       "<table border=\"1\" class=\"dataframe\">\n",
       "  <thead>\n",
       "    <tr style=\"text-align: right;\">\n",
       "      <th></th>\n",
       "      <th>id</th>\n",
       "      <th>location</th>\n",
       "      <th>price</th>\n",
       "      <th>area</th>\n",
       "      <th>date_posted</th>\n",
       "      <th>fridge</th>\n",
       "      <th>washer</th>\n",
       "      <th>air_condition</th>\n",
       "      <th>wifi</th>\n",
       "      <th>district</th>\n",
       "    </tr>\n",
       "  </thead>\n",
       "  <tbody>\n",
       "    <tr>\n",
       "      <th>0</th>\n",
       "      <td>1</td>\n",
       "      <td>Cẩm Lệ, Đà Nẵng</td>\n",
       "      <td>6900000.0</td>\n",
       "      <td>50.0</td>\n",
       "      <td>2025-09-16</td>\n",
       "      <td>1</td>\n",
       "      <td>1</td>\n",
       "      <td>1</td>\n",
       "      <td>1</td>\n",
       "      <td>Cẩm Lệ</td>\n",
       "    </tr>\n",
       "    <tr>\n",
       "      <th>1</th>\n",
       "      <td>2</td>\n",
       "      <td>Hải Châu, Đà Nẵng</td>\n",
       "      <td>5000000.0</td>\n",
       "      <td>35.0</td>\n",
       "      <td>2025-08-16</td>\n",
       "      <td>1</td>\n",
       "      <td>1</td>\n",
       "      <td>1</td>\n",
       "      <td>1</td>\n",
       "      <td>Hải Châu</td>\n",
       "    </tr>\n",
       "    <tr>\n",
       "      <th>2</th>\n",
       "      <td>3</td>\n",
       "      <td>Hải Châu, Đà Nẵng</td>\n",
       "      <td>2500000.0</td>\n",
       "      <td>23.0</td>\n",
       "      <td>2025-07-16</td>\n",
       "      <td>0</td>\n",
       "      <td>0</td>\n",
       "      <td>0</td>\n",
       "      <td>1</td>\n",
       "      <td>Hải Châu</td>\n",
       "    </tr>\n",
       "    <tr>\n",
       "      <th>3</th>\n",
       "      <td>4</td>\n",
       "      <td>Hải Châu, Đà Nẵng</td>\n",
       "      <td>1000000.0</td>\n",
       "      <td>20.0</td>\n",
       "      <td>2025-07-16</td>\n",
       "      <td>0</td>\n",
       "      <td>0</td>\n",
       "      <td>0</td>\n",
       "      <td>0</td>\n",
       "      <td>Hải Châu</td>\n",
       "    </tr>\n",
       "    <tr>\n",
       "      <th>5</th>\n",
       "      <td>6</td>\n",
       "      <td>Hải Châu, Đà Nẵng</td>\n",
       "      <td>1900000.0</td>\n",
       "      <td>20.0</td>\n",
       "      <td>2025-06-16</td>\n",
       "      <td>0</td>\n",
       "      <td>0</td>\n",
       "      <td>0</td>\n",
       "      <td>0</td>\n",
       "      <td>Hải Châu</td>\n",
       "    </tr>\n",
       "    <tr>\n",
       "      <th>...</th>\n",
       "      <td>...</td>\n",
       "      <td>...</td>\n",
       "      <td>...</td>\n",
       "      <td>...</td>\n",
       "      <td>...</td>\n",
       "      <td>...</td>\n",
       "      <td>...</td>\n",
       "      <td>...</td>\n",
       "      <td>...</td>\n",
       "      <td>...</td>\n",
       "    </tr>\n",
       "    <tr>\n",
       "      <th>1370</th>\n",
       "      <td>1381</td>\n",
       "      <td>Hải Châu, Đà Nẵng</td>\n",
       "      <td>1300000.0</td>\n",
       "      <td>25.0</td>\n",
       "      <td>2021-10-23</td>\n",
       "      <td>1</td>\n",
       "      <td>1</td>\n",
       "      <td>1</td>\n",
       "      <td>1</td>\n",
       "      <td>Hải Châu</td>\n",
       "    </tr>\n",
       "    <tr>\n",
       "      <th>1371</th>\n",
       "      <td>1382</td>\n",
       "      <td>Hải Châu, Đà Nẵng</td>\n",
       "      <td>2000000.0</td>\n",
       "      <td>25.0</td>\n",
       "      <td>2021-10-23</td>\n",
       "      <td>0</td>\n",
       "      <td>0</td>\n",
       "      <td>0</td>\n",
       "      <td>0</td>\n",
       "      <td>Hải Châu</td>\n",
       "    </tr>\n",
       "    <tr>\n",
       "      <th>1372</th>\n",
       "      <td>1383</td>\n",
       "      <td>Ngũ Hành Sơn, Đà Nẵng</td>\n",
       "      <td>2300000.0</td>\n",
       "      <td>25.0</td>\n",
       "      <td>2021-10-23</td>\n",
       "      <td>0</td>\n",
       "      <td>0</td>\n",
       "      <td>0</td>\n",
       "      <td>0</td>\n",
       "      <td>Ngũ Hành Sơn</td>\n",
       "    </tr>\n",
       "    <tr>\n",
       "      <th>1373</th>\n",
       "      <td>1384</td>\n",
       "      <td>Hải Châu, Đà Nẵng</td>\n",
       "      <td>1700000.0</td>\n",
       "      <td>28.0</td>\n",
       "      <td>2021-10-23</td>\n",
       "      <td>1</td>\n",
       "      <td>1</td>\n",
       "      <td>1</td>\n",
       "      <td>1</td>\n",
       "      <td>Hải Châu</td>\n",
       "    </tr>\n",
       "    <tr>\n",
       "      <th>1374</th>\n",
       "      <td>1385</td>\n",
       "      <td>Hải Châu, Đà Nẵng</td>\n",
       "      <td>3000000.0</td>\n",
       "      <td>35.0</td>\n",
       "      <td>2021-10-23</td>\n",
       "      <td>0</td>\n",
       "      <td>0</td>\n",
       "      <td>1</td>\n",
       "      <td>1</td>\n",
       "      <td>Hải Châu</td>\n",
       "    </tr>\n",
       "  </tbody>\n",
       "</table>\n",
       "<p>1261 rows × 10 columns</p>\n",
       "</div>"
      ],
      "text/plain": [
       "        id               location      price  area date_posted fridge washer  \\\n",
       "0        1        Cẩm Lệ, Đà Nẵng  6900000.0  50.0  2025-09-16      1      1   \n",
       "1        2      Hải Châu, Đà Nẵng  5000000.0  35.0  2025-08-16      1      1   \n",
       "2        3      Hải Châu, Đà Nẵng  2500000.0  23.0  2025-07-16      0      0   \n",
       "3        4      Hải Châu, Đà Nẵng  1000000.0  20.0  2025-07-16      0      0   \n",
       "5        6      Hải Châu, Đà Nẵng  1900000.0  20.0  2025-06-16      0      0   \n",
       "...    ...                    ...        ...   ...         ...    ...    ...   \n",
       "1370  1381      Hải Châu, Đà Nẵng  1300000.0  25.0  2021-10-23      1      1   \n",
       "1371  1382      Hải Châu, Đà Nẵng  2000000.0  25.0  2021-10-23      0      0   \n",
       "1372  1383  Ngũ Hành Sơn, Đà Nẵng  2300000.0  25.0  2021-10-23      0      0   \n",
       "1373  1384      Hải Châu, Đà Nẵng  1700000.0  28.0  2021-10-23      1      1   \n",
       "1374  1385      Hải Châu, Đà Nẵng  3000000.0  35.0  2021-10-23      0      0   \n",
       "\n",
       "     air_condition wifi      district  \n",
       "0                1    1        Cẩm Lệ  \n",
       "1                1    1      Hải Châu  \n",
       "2                0    1      Hải Châu  \n",
       "3                0    0      Hải Châu  \n",
       "5                0    0      Hải Châu  \n",
       "...            ...  ...           ...  \n",
       "1370             1    1      Hải Châu  \n",
       "1371             0    0      Hải Châu  \n",
       "1372             0    0  Ngũ Hành Sơn  \n",
       "1373             1    1      Hải Châu  \n",
       "1374             1    1      Hải Châu  \n",
       "\n",
       "[1261 rows x 10 columns]"
      ]
     },
     "execution_count": 19,
     "metadata": {},
     "output_type": "execute_result"
    }
   ],
   "source": [
    "df[df.duplicated(subset=[\"location\", \"price\", \"area\"], keep=False)]"
   ]
  },
  {
   "cell_type": "code",
   "execution_count": 24,
   "id": "04394c7d",
   "metadata": {},
   "outputs": [
    {
     "name": "stdout",
     "output_type": "stream",
     "text": [
      "Số dòng trùng lặp: 0\n"
     ]
    },
    {
     "data": {
      "application/vnd.microsoft.datawrangler.viewer.v0+json": {
       "columns": [
        {
         "name": "index",
         "rawType": "int64",
         "type": "integer"
        },
        {
         "name": "id",
         "rawType": "int64",
         "type": "integer"
        },
        {
         "name": "location",
         "rawType": "object",
         "type": "string"
        },
        {
         "name": "price",
         "rawType": "float64",
         "type": "float"
        },
        {
         "name": "area",
         "rawType": "float64",
         "type": "float"
        },
        {
         "name": "date_posted",
         "rawType": "datetime64[ns]",
         "type": "datetime"
        },
        {
         "name": "fridge",
         "rawType": "object",
         "type": "string"
        },
        {
         "name": "washer",
         "rawType": "object",
         "type": "string"
        },
        {
         "name": "air_condition",
         "rawType": "object",
         "type": "string"
        },
        {
         "name": "wifi",
         "rawType": "object",
         "type": "string"
        },
        {
         "name": "district",
         "rawType": "object",
         "type": "string"
        }
       ],
       "ref": "f7ecb5c3-ccf2-48e9-92bb-599a676bc507",
       "rows": [],
       "shape": {
        "columns": 10,
        "rows": 0
       }
      },
      "text/html": [
       "<div>\n",
       "<style scoped>\n",
       "    .dataframe tbody tr th:only-of-type {\n",
       "        vertical-align: middle;\n",
       "    }\n",
       "\n",
       "    .dataframe tbody tr th {\n",
       "        vertical-align: top;\n",
       "    }\n",
       "\n",
       "    .dataframe thead th {\n",
       "        text-align: right;\n",
       "    }\n",
       "</style>\n",
       "<table border=\"1\" class=\"dataframe\">\n",
       "  <thead>\n",
       "    <tr style=\"text-align: right;\">\n",
       "      <th></th>\n",
       "      <th>id</th>\n",
       "      <th>location</th>\n",
       "      <th>price</th>\n",
       "      <th>area</th>\n",
       "      <th>date_posted</th>\n",
       "      <th>fridge</th>\n",
       "      <th>washer</th>\n",
       "      <th>air_condition</th>\n",
       "      <th>wifi</th>\n",
       "      <th>district</th>\n",
       "    </tr>\n",
       "  </thead>\n",
       "  <tbody>\n",
       "  </tbody>\n",
       "</table>\n",
       "</div>"
      ],
      "text/plain": [
       "Empty DataFrame\n",
       "Columns: [id, location, price, area, date_posted, fridge, washer, air_condition, wifi, district]\n",
       "Index: []"
      ]
     },
     "execution_count": 24,
     "metadata": {},
     "output_type": "execute_result"
    }
   ],
   "source": [
    "df = df[df[\"price\"] > 0]\n",
    "df = df.drop_duplicates()\n",
    "df = df.dropna(subset=[\"price\", \"area\"])\n",
    "duplicates = df[df.duplicated()]\n",
    "print(f\"Số dòng trùng lặp: {len(duplicates)}\")\n",
    "duplicates.head()\n"
   ]
  },
  {
   "cell_type": "code",
   "execution_count": 21,
   "id": "136704da",
   "metadata": {},
   "outputs": [
    {
     "name": "stdout",
     "output_type": "stream",
     "text": [
      "<class 'pandas.core.frame.DataFrame'>\n",
      "Index: 1261 entries, 0 to 1374\n",
      "Data columns (total 10 columns):\n",
      " #   Column         Non-Null Count  Dtype         \n",
      "---  ------         --------------  -----         \n",
      " 0   id             1261 non-null   int64         \n",
      " 1   location       1261 non-null   object        \n",
      " 2   price          1261 non-null   float64       \n",
      " 3   area           1261 non-null   float64       \n",
      " 4   date_posted    1261 non-null   datetime64[ns]\n",
      " 5   fridge         1261 non-null   object        \n",
      " 6   washer         1261 non-null   object        \n",
      " 7   air_condition  1261 non-null   object        \n",
      " 8   wifi           1261 non-null   object        \n",
      " 9   district       1261 non-null   object        \n",
      "dtypes: datetime64[ns](1), float64(2), int64(1), object(6)\n",
      "memory usage: 108.4+ KB\n",
      "None\n",
      "                id         price         area                    date_posted\n",
      "count  1261.000000  1.261000e+03  1261.000000                           1261\n",
      "mean    700.226011  2.082157e+06    23.358446  2022-05-06 00:29:41.443299072\n",
      "min       1.000000  1.000000e+06    10.000000            2021-10-16 00:00:00\n",
      "25%     347.000000  1.500000e+06    20.000000            2021-10-21 00:00:00\n",
      "50%     692.000000  1.900000e+06    20.000000            2021-10-21 00:00:00\n",
      "75%    1038.000000  2.500000e+06    25.000000            2022-10-16 00:00:00\n",
      "max    1385.000000  6.900000e+06    50.000000            2025-10-20 00:00:00\n",
      "std     399.590249  8.428356e+05     6.872188                            NaN\n"
     ]
    }
   ],
   "source": [
    "print(df.info())\n",
    "print(df.describe())\n"
   ]
  },
  {
   "cell_type": "code",
   "execution_count": 22,
   "id": "a0ac80d6",
   "metadata": {},
   "outputs": [],
   "source": [
    "# Loại bỏ 'Quận', 'quận', chuẩn hóa\n",
    "df['district'] = df['district'].str.replace(r'Quận |quận ', '', regex=True).str.title().str.strip()\n"
   ]
  },
  {
   "cell_type": "code",
   "execution_count": 29,
   "id": "9972eb1a",
   "metadata": {},
   "outputs": [],
   "source": [
    "'''\n",
    "Loại bỏ ngoại lệ (outliers)\n",
    "\n",
    "Dữ liệu lớn thường có giá “ảo” (nhập sai đơn vị: 200 triệu thay vì 2 triệu).\n",
    "→ Dùng IQR hoặc quantile để loại bỏ:\n",
    "\n",
    "'''\n",
    "Q1 = df[\"price\"].quantile(0.25)\n",
    "Q3 = df[\"price\"].quantile(0.75)\n",
    "IQR = Q3 - Q1\n",
    "df = df[(df[\"price\"] >= Q1 - 1.5*IQR) & (df[\"price\"] <= Q3 + 1.5*IQR)]\n"
   ]
  },
  {
   "cell_type": "code",
   "execution_count": 34,
   "id": "8bb8cf0f",
   "metadata": {},
   "outputs": [
    {
     "name": "stdout",
     "output_type": "stream",
     "text": [
      "   fridge  washer  air_condition  wifi\n",
      "2       0       0              0     1\n",
      "3       0       0              0     0\n",
      "5       0       0              0     0\n",
      "6       0       0              0     0\n",
      "7       1       1              1     1\n",
      "fridge           0.300648\n",
      "washer           0.327391\n",
      "air_condition    0.310373\n",
      "wifi             0.430308\n",
      "dtype: float64\n"
     ]
    }
   ],
   "source": [
    "utilities = ['fridge', 'washer', 'air_condition', 'wifi']\n",
    "\n",
    "for col in utilities:\n",
    "    df[col] = df[col].apply(lambda x: 1 if '1' in str(x) else 0)\n",
    "\n",
    "df[utilities] = df[utilities].astype(int)\n",
    "\n",
    "print(df[utilities].head())\n",
    "print(df[utilities].mean())\n"
   ]
  },
  {
   "cell_type": "code",
   "execution_count": 35,
   "id": "d8f74309",
   "metadata": {},
   "outputs": [
    {
     "name": "stdout",
     "output_type": "stream",
     "text": [
      "📊 Tỷ lệ phòng có tiện ích (%):\n",
      "fridge           30.06\n",
      "washer           32.74\n",
      "air_condition    31.04\n",
      "wifi             43.03\n",
      "dtype: float64\n"
     ]
    }
   ],
   "source": [
    "# Tính phần trăm tiện ích có trong phòng\n",
    "utility_percent = (df[['fridge', 'washer', 'air_condition', 'wifi']].mean() * 100).round(2)\n",
    "print(\"📊 Tỷ lệ phòng có tiện ích (%):\")\n",
    "print(utility_percent)\n"
   ]
  },
  {
   "cell_type": "code",
   "execution_count": 30,
   "id": "4d4b3ccd",
   "metadata": {},
   "outputs": [
    {
     "name": "stdout",
     "output_type": "stream",
     "text": [
      "📌 Shape dữ liệu: (1234, 10)\n",
      "\n",
      "📌 Null values:\n",
      "id               0\n",
      "location         0\n",
      "price            0\n",
      "area             0\n",
      "date_posted      0\n",
      "fridge           0\n",
      "washer           0\n",
      "air_condition    0\n",
      "wifi             0\n",
      "district         0\n",
      "dtype: int64\n",
      "\n",
      "📌 Kiểu dữ liệu (dtypes):\n",
      "id                        int64\n",
      "location                 object\n",
      "price                   float64\n",
      "area                    float64\n",
      "date_posted      datetime64[ns]\n",
      "fridge                   object\n",
      "washer                   object\n",
      "air_condition            object\n",
      "wifi                     object\n",
      "district                 object\n",
      "dtype: object\n",
      "\n",
      "📌 Số dòng trùng lặp: 0\n",
      "\n",
      "📌 Thống kê mô tả các cột dạng số:\n",
      "                id         price         area                    date_posted\n",
      "count  1234.000000  1.234000e+03  1234.000000                           1234\n",
      "mean    701.563209  2.005348e+06    23.061588  2022-04-23 00:05:50.081037312\n",
      "min       3.000000  1.000000e+06    10.000000            2021-10-16 00:00:00\n",
      "25%     348.500000  1.500000e+06    20.000000            2021-10-21 00:00:00\n",
      "50%     694.000000  1.900000e+06    20.000000            2021-10-21 00:00:00\n",
      "75%    1038.750000  2.500000e+06    25.000000            2021-10-23 00:00:00\n",
      "max    1385.000000  4.000000e+06    50.000000            2025-10-20 00:00:00\n",
      "std     399.428425  6.605834e+05     6.463907                            NaN\n",
      "\n",
      "📌 Unique District: ['Hải Châu' 'Ngũ Hành Sơn' 'Cẩm Lệ' 'Sơn Trà' 'Liên Chiểu' 'Thanh Khê'\n",
      " 'Hòa Vang']\n",
      "\n",
      "📌 Giá trị MIN-MAX Price: 1000000.0 - 4000000.0\n",
      "📌 Giá trị MIN-MAX Area: 10.0 - 50.0\n",
      "\n",
      "📌 Số bản ghi có ngày đăng trong tương lai: 0\n",
      "\n",
      "📌 Số lượng phòng theo quận:\n",
      "district\n",
      "Hải Châu        316\n",
      "Ngũ Hành Sơn    236\n",
      "Liên Chiểu      198\n",
      "Thanh Khê       191\n",
      "Cẩm Lệ          169\n",
      "Sơn Trà         116\n",
      "Hòa Vang          8\n",
      "Name: count, dtype: int64\n"
     ]
    }
   ],
   "source": [
    "import pandas as pd\n",
    "\n",
    "# 1️⃣ Kiểm tra kích thước dữ liệu\n",
    "print(\"📌 Shape dữ liệu:\", df.shape)\n",
    "\n",
    "# 2️⃣ Kiểm tra dữ liệu null\n",
    "print(\"\\n📌 Null values:\")\n",
    "print(df.isnull().sum())\n",
    "\n",
    "# 3️⃣ Kiểm tra kiểu dữ liệu của các cột\n",
    "print(\"\\n📌 Kiểu dữ liệu (dtypes):\")\n",
    "print(df.dtypes)\n",
    "\n",
    "# 4️⃣ Kiểm tra dữ liệu trùng lặp\n",
    "dups = df.duplicated().sum()\n",
    "print(f\"\\n📌 Số dòng trùng lặp: {dups}\")\n",
    "\n",
    "# 5️⃣ Kiểm tra thống kê cơ bản của số (price, area,…)\n",
    "print(\"\\n📌 Thống kê mô tả các cột dạng số:\")\n",
    "print(df.describe())\n",
    "\n",
    "# 6️⃣ Kiểm tra cột category: có giá trị bất thường không?\n",
    "print(\"\\n📌 Unique District:\", df['district'].unique())\n",
    "\n",
    "# 7️⃣ Kiểm tra logic giá và diện tích\n",
    "print(\"\\n📌 Giá trị MIN-MAX Price:\", df['price'].min(), '-', df['price'].max())\n",
    "print(\"📌 Giá trị MIN-MAX Area:\", df['area'].min(), '-', df['area'].max())\n",
    "\n",
    "# 8️⃣ Kiểm tra ngày đăng có lỗi tương lai?\n",
    "future_date_count = sum(df['date_posted'] > pd.Timestamp.today())\n",
    "print(f\"\\n📌 Số bản ghi có ngày đăng trong tương lai: {future_date_count}\")\n",
    "\n",
    "# 9️⃣ Kiểm tra phân phối District (xem có lệch quá không?)\n",
    "print(\"\\n📌 Số lượng phòng theo quận:\")\n",
    "print(df['district'].value_counts())\n"
   ]
  },
  {
   "cell_type": "code",
   "execution_count": 31,
   "id": "b535193d",
   "metadata": {},
   "outputs": [
    {
     "data": {
      "image/png": "[encoded data removed]",
      "text/plain": [
       "<Figure size 800x500 with 1 Axes>"
      ]
     },
     "metadata": {},
     "output_type": "display_data"
    }
   ],
   "source": [
    "import matplotlib.pyplot as plt\n",
    "import seaborn as sns\n",
    "\n",
    "plt.style.use(\"default\")\n",
    "\n",
    "# Histogram Price\n",
    "plt.figure(figsize=(8,5))\n",
    "sns.histplot(df['price'], bins=30, kde=True)\n",
    "plt.xlabel(\"Giá phòng (VND)\")\n",
    "plt.title(\"Phân bố giá phòng\")\n",
    "plt.show()"
   ]
  },
  {
   "cell_type": "code",
   "execution_count": 32,
   "id": "1119e711",
   "metadata": {},
   "outputs": [
    {
     "data": {
      "image/png": "[encoded data removed]",
      "text/plain": [
       "<Figure size 800x500 with 1 Axes>"
      ]
     },
     "metadata": {},
     "output_type": "display_data"
    }
   ],
   "source": [
    "plt.figure(figsize=(8,5))\n",
    "sns.histplot(df['area'], bins=25, kde=True)\n",
    "plt.xlabel(\"Diện tích (m²)\")\n",
    "plt.title(\"Phân bố diện tích phòng\")\n",
    "plt.show()"
   ]
  },
  {
   "cell_type": "code",
   "execution_count": 36,
   "id": "5e9cdbc3",
   "metadata": {},
   "outputs": [
    {
     "data": {
      "image/png": "[encoded data removed]",
      "text/plain": [
       "<Figure size 800x500 with 1 Axes>"
      ]
     },
     "metadata": {},
     "output_type": "display_data"
    }
   ],
   "source": [
    "# Utilities\n",
    "utilities = ['fridge', 'washer', 'air_condition', 'wifi']\n",
    "df[utilities].mean().sort_values().plot(kind='bar', figsize=(8,5))\n",
    "plt.ylabel(\"Tỉ lệ phòng có tiện ích\")\n",
    "plt.title(\"Tỷ lệ tiện ích trong phòng trọ\")\n",
    "plt.show()"
   ]
  },
  {
   "cell_type": "code",
   "execution_count": null,
   "id": "488f06d7",
   "metadata": {},
   "outputs": [],
   "source": []
  }
 ],
 "metadata": {
  "kernelspec": {
   "display_name": "Python 3",
   "language": "python",
   "name": "python3"
  },
  "language_info": {
   "codemirror_mode": {
    "name": "ipython",
    "version": 3
   },
   "file_extension": ".py",
   "mimetype": "text/x-python",
   "name": "python",
   "nbconvert_exporter": "python",
   "pygments_lexer": "ipython3",
   "version": "3.13.7"
  }
 },
 "nbformat": 4,
 "nbformat_minor": 5
}
